{
 "cells": [
  {
   "cell_type": "markdown",
   "id": "1038b1ca",
   "metadata": {},
   "source": [
    "#### Setting up the environment"
   ]
  },
  {
   "cell_type": "markdown",
   "id": "60145628",
   "metadata": {},
   "source": [
    "This document is coded within the conda environment \"virtue_env\"\n",
    "\n",
    "The following packages are installed within this environment:\n",
    " - ipykernel\n",
    " - numpy\n",
    " - matplotlib\n",
    " - scienceplots"
   ]
  },
  {
   "cell_type": "code",
   "execution_count": 1,
   "id": "9911c1c5",
   "metadata": {},
   "outputs": [],
   "source": [
    "import numpy as np\n",
    "import matplotlib.pyplot as plt\n",
    "import scienceplots\n",
    "\n",
    "plt.style.use(['science', 'notebook', 'grid'])"
   ]
  }
 ],
 "metadata": {
  "kernelspec": {
   "display_name": "virtue_env",
   "language": "python",
   "name": "python3"
  },
  "language_info": {
   "codemirror_mode": {
    "name": "ipython",
    "version": 3
   },
   "file_extension": ".py",
   "mimetype": "text/x-python",
   "name": "python",
   "nbconvert_exporter": "python",
   "pygments_lexer": "ipython3",
   "version": "3.13.5"
  }
 },
 "nbformat": 4,
 "nbformat_minor": 5
}
